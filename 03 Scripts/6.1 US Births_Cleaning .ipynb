{
 "cells": [
  {
   "cell_type": "markdown",
   "id": "12398ecd",
   "metadata": {},
   "source": [
    "# Import Libraries"
   ]
  },
  {
   "cell_type": "code",
   "execution_count": 1,
   "id": "7b8abeda",
   "metadata": {},
   "outputs": [],
   "source": [
    "#Import libraries\n",
    "import pandas as pd\n",
    "import numpy as np\n",
    "import os"
   ]
  },
  {
   "cell_type": "markdown",
   "id": "bf87f14c",
   "metadata": {},
   "source": [
    "# Import data "
   ]
  },
  {
   "cell_type": "code",
   "execution_count": 2,
   "id": "20c64e6e",
   "metadata": {},
   "outputs": [],
   "source": [
    "path = r'C:\\Users\\tlayt\\OneDrive\\Documents\\CF Data Analytics\\Acheivement 6\\Final Project'"
   ]
  },
  {
   "cell_type": "code",
   "execution_count": 3,
   "id": "1c64f0a5",
   "metadata": {},
   "outputs": [],
   "source": [
    "# importing df\n",
    "df = pd.read_csv(os.path.join(path, '02 Data', 'Original Data', 'us_births_2016_2021.csv'), index_col = False)"
   ]
  },
  {
   "cell_type": "markdown",
   "id": "fc75bbd6",
   "metadata": {},
   "source": [
    "# Data cleaning"
   ]
  },
  {
   "cell_type": "code",
   "execution_count": 4,
   "id": "7e60ec8c",
   "metadata": {},
   "outputs": [
    {
     "data": {
      "text/html": [
       "<div>\n",
       "<style scoped>\n",
       "    .dataframe tbody tr th:only-of-type {\n",
       "        vertical-align: middle;\n",
       "    }\n",
       "\n",
       "    .dataframe tbody tr th {\n",
       "        vertical-align: top;\n",
       "    }\n",
       "\n",
       "    .dataframe thead th {\n",
       "        text-align: right;\n",
       "    }\n",
       "</style>\n",
       "<table border=\"1\" class=\"dataframe\">\n",
       "  <thead>\n",
       "    <tr style=\"text-align: right;\">\n",
       "      <th></th>\n",
       "      <th>State</th>\n",
       "      <th>State Abbreviation</th>\n",
       "      <th>Year</th>\n",
       "      <th>Gender</th>\n",
       "      <th>Education Level of Mother</th>\n",
       "      <th>Education Level Code</th>\n",
       "      <th>Number of Births</th>\n",
       "      <th>Average Age of Mother (years)</th>\n",
       "      <th>Average Birth Weight (g)</th>\n",
       "    </tr>\n",
       "  </thead>\n",
       "  <tbody>\n",
       "    <tr>\n",
       "      <th>0</th>\n",
       "      <td>Alabama</td>\n",
       "      <td>AL</td>\n",
       "      <td>2016</td>\n",
       "      <td>F</td>\n",
       "      <td>8th grade or less</td>\n",
       "      <td>1</td>\n",
       "      <td>1052</td>\n",
       "      <td>27.8</td>\n",
       "      <td>3116.9</td>\n",
       "    </tr>\n",
       "    <tr>\n",
       "      <th>1</th>\n",
       "      <td>Alabama</td>\n",
       "      <td>AL</td>\n",
       "      <td>2016</td>\n",
       "      <td>F</td>\n",
       "      <td>9th through 12th grade with no diploma</td>\n",
       "      <td>2</td>\n",
       "      <td>3436</td>\n",
       "      <td>24.1</td>\n",
       "      <td>3040.0</td>\n",
       "    </tr>\n",
       "    <tr>\n",
       "      <th>2</th>\n",
       "      <td>Alabama</td>\n",
       "      <td>AL</td>\n",
       "      <td>2016</td>\n",
       "      <td>F</td>\n",
       "      <td>High school graduate or GED completed</td>\n",
       "      <td>3</td>\n",
       "      <td>8777</td>\n",
       "      <td>25.4</td>\n",
       "      <td>3080.0</td>\n",
       "    </tr>\n",
       "    <tr>\n",
       "      <th>3</th>\n",
       "      <td>Alabama</td>\n",
       "      <td>AL</td>\n",
       "      <td>2016</td>\n",
       "      <td>F</td>\n",
       "      <td>Some college credit, but not a degree</td>\n",
       "      <td>4</td>\n",
       "      <td>6453</td>\n",
       "      <td>26.7</td>\n",
       "      <td>3121.9</td>\n",
       "    </tr>\n",
       "    <tr>\n",
       "      <th>4</th>\n",
       "      <td>Alabama</td>\n",
       "      <td>AL</td>\n",
       "      <td>2016</td>\n",
       "      <td>F</td>\n",
       "      <td>Associate degree (AA, AS)</td>\n",
       "      <td>5</td>\n",
       "      <td>2227</td>\n",
       "      <td>28.9</td>\n",
       "      <td>3174.3</td>\n",
       "    </tr>\n",
       "  </tbody>\n",
       "</table>\n",
       "</div>"
      ],
      "text/plain": [
       "     State State Abbreviation  Year Gender  \\\n",
       "0  Alabama                 AL  2016      F   \n",
       "1  Alabama                 AL  2016      F   \n",
       "2  Alabama                 AL  2016      F   \n",
       "3  Alabama                 AL  2016      F   \n",
       "4  Alabama                 AL  2016      F   \n",
       "\n",
       "                Education Level of Mother  Education Level Code  \\\n",
       "0                       8th grade or less                     1   \n",
       "1  9th through 12th grade with no diploma                     2   \n",
       "2   High school graduate or GED completed                     3   \n",
       "3   Some college credit, but not a degree                     4   \n",
       "4               Associate degree (AA, AS)                     5   \n",
       "\n",
       "   Number of Births  Average Age of Mother (years)  Average Birth Weight (g)  \n",
       "0              1052                           27.8                    3116.9  \n",
       "1              3436                           24.1                    3040.0  \n",
       "2              8777                           25.4                    3080.0  \n",
       "3              6453                           26.7                    3121.9  \n",
       "4              2227                           28.9                    3174.3  "
      ]
     },
     "execution_count": 4,
     "metadata": {},
     "output_type": "execute_result"
    }
   ],
   "source": [
    "#checking data \n",
    "df.head()"
   ]
  },
  {
   "cell_type": "code",
   "execution_count": 5,
   "id": "10a86b7c",
   "metadata": {},
   "outputs": [
    {
     "data": {
      "text/html": [
       "<div>\n",
       "<style scoped>\n",
       "    .dataframe tbody tr th:only-of-type {\n",
       "        vertical-align: middle;\n",
       "    }\n",
       "\n",
       "    .dataframe tbody tr th {\n",
       "        vertical-align: top;\n",
       "    }\n",
       "\n",
       "    .dataframe thead th {\n",
       "        text-align: right;\n",
       "    }\n",
       "</style>\n",
       "<table border=\"1\" class=\"dataframe\">\n",
       "  <thead>\n",
       "    <tr style=\"text-align: right;\">\n",
       "      <th></th>\n",
       "      <th>Year</th>\n",
       "      <th>Education Level Code</th>\n",
       "      <th>Number of Births</th>\n",
       "      <th>Average Age of Mother (years)</th>\n",
       "      <th>Average Birth Weight (g)</th>\n",
       "    </tr>\n",
       "  </thead>\n",
       "  <tbody>\n",
       "    <tr>\n",
       "      <th>count</th>\n",
       "      <td>5496.000000</td>\n",
       "      <td>5496.000000</td>\n",
       "      <td>5496.000000</td>\n",
       "      <td>5496.000000</td>\n",
       "      <td>5496.000000</td>\n",
       "    </tr>\n",
       "    <tr>\n",
       "      <th>mean</th>\n",
       "      <td>2018.500728</td>\n",
       "      <td>3.026201</td>\n",
       "      <td>4115.443959</td>\n",
       "      <td>29.552274</td>\n",
       "      <td>3250.887627</td>\n",
       "    </tr>\n",
       "    <tr>\n",
       "      <th>std</th>\n",
       "      <td>1.707554</td>\n",
       "      <td>4.733406</td>\n",
       "      <td>6687.036797</td>\n",
       "      <td>2.779735</td>\n",
       "      <td>114.456090</td>\n",
       "    </tr>\n",
       "    <tr>\n",
       "      <th>min</th>\n",
       "      <td>2016.000000</td>\n",
       "      <td>-9.000000</td>\n",
       "      <td>10.000000</td>\n",
       "      <td>23.100000</td>\n",
       "      <td>2451.900000</td>\n",
       "    </tr>\n",
       "    <tr>\n",
       "      <th>25%</th>\n",
       "      <td>2017.000000</td>\n",
       "      <td>2.000000</td>\n",
       "      <td>559.000000</td>\n",
       "      <td>27.500000</td>\n",
       "      <td>3182.200000</td>\n",
       "    </tr>\n",
       "    <tr>\n",
       "      <th>50%</th>\n",
       "      <td>2019.000000</td>\n",
       "      <td>4.000000</td>\n",
       "      <td>1692.000000</td>\n",
       "      <td>29.600000</td>\n",
       "      <td>3256.000000</td>\n",
       "    </tr>\n",
       "    <tr>\n",
       "      <th>75%</th>\n",
       "      <td>2020.000000</td>\n",
       "      <td>6.000000</td>\n",
       "      <td>5140.000000</td>\n",
       "      <td>31.800000</td>\n",
       "      <td>3330.825000</td>\n",
       "    </tr>\n",
       "    <tr>\n",
       "      <th>max</th>\n",
       "      <td>2021.000000</td>\n",
       "      <td>8.000000</td>\n",
       "      <td>59967.000000</td>\n",
       "      <td>35.500000</td>\n",
       "      <td>3585.700000</td>\n",
       "    </tr>\n",
       "  </tbody>\n",
       "</table>\n",
       "</div>"
      ],
      "text/plain": [
       "              Year  Education Level Code  Number of Births  \\\n",
       "count  5496.000000           5496.000000       5496.000000   \n",
       "mean   2018.500728              3.026201       4115.443959   \n",
       "std       1.707554              4.733406       6687.036797   \n",
       "min    2016.000000             -9.000000         10.000000   \n",
       "25%    2017.000000              2.000000        559.000000   \n",
       "50%    2019.000000              4.000000       1692.000000   \n",
       "75%    2020.000000              6.000000       5140.000000   \n",
       "max    2021.000000              8.000000      59967.000000   \n",
       "\n",
       "       Average Age of Mother (years)  Average Birth Weight (g)  \n",
       "count                    5496.000000               5496.000000  \n",
       "mean                       29.552274               3250.887627  \n",
       "std                         2.779735                114.456090  \n",
       "min                        23.100000               2451.900000  \n",
       "25%                        27.500000               3182.200000  \n",
       "50%                        29.600000               3256.000000  \n",
       "75%                        31.800000               3330.825000  \n",
       "max                        35.500000               3585.700000  "
      ]
     },
     "execution_count": 5,
     "metadata": {},
     "output_type": "execute_result"
    }
   ],
   "source": [
    "#getting basic descriptive stats\n",
    "df.describe()"
   ]
  },
  {
   "cell_type": "code",
   "execution_count": 7,
   "id": "647ff54a",
   "metadata": {},
   "outputs": [
    {
     "data": {
      "text/plain": [
       "(5496, 9)"
      ]
     },
     "execution_count": 7,
     "metadata": {},
     "output_type": "execute_result"
    }
   ],
   "source": [
    "df.shape"
   ]
  },
  {
   "cell_type": "code",
   "execution_count": 9,
   "id": "14a49f41",
   "metadata": {},
   "outputs": [
    {
     "name": "stdout",
     "output_type": "stream",
     "text": [
      "<class 'pandas.core.frame.DataFrame'>\n",
      "RangeIndex: 5496 entries, 0 to 5495\n",
      "Data columns (total 9 columns):\n",
      " #   Column                         Non-Null Count  Dtype  \n",
      "---  ------                         --------------  -----  \n",
      " 0   State                          5496 non-null   object \n",
      " 1   State Abbreviation             5496 non-null   object \n",
      " 2   Year                           5496 non-null   int64  \n",
      " 3   Gender                         5496 non-null   object \n",
      " 4   Education Level of Mother      5496 non-null   object \n",
      " 5   Education Level Code           5496 non-null   int64  \n",
      " 6   Number of Births               5496 non-null   int64  \n",
      " 7   Average Age of Mother (years)  5496 non-null   float64\n",
      " 8   Average Birth Weight (g)       5496 non-null   float64\n",
      "dtypes: float64(2), int64(3), object(4)\n",
      "memory usage: 386.6+ KB\n"
     ]
    }
   ],
   "source": [
    "#checking data types\n",
    "df.info()"
   ]
  },
  {
   "cell_type": "code",
   "execution_count": 10,
   "id": "7fe934f2",
   "metadata": {},
   "outputs": [],
   "source": [
    "#checking for mixed type data \n",
    "for col in df.columns.tolist():\n",
    "  weird = (df[[col]].applymap(type) != df[[col]].iloc[0].apply(type)).any(axis = 1)\n",
    "  if len (df[weird]) > 0:\n",
    "    print (col)"
   ]
  },
  {
   "cell_type": "code",
   "execution_count": 11,
   "id": "bcc4d829",
   "metadata": {},
   "outputs": [
    {
     "data": {
      "text/plain": [
       "State                            0\n",
       "State Abbreviation               0\n",
       "Year                             0\n",
       "Gender                           0\n",
       "Education Level of Mother        0\n",
       "Education Level Code             0\n",
       "Number of Births                 0\n",
       "Average Age of Mother (years)    0\n",
       "Average Birth Weight (g)         0\n",
       "dtype: int64"
      ]
     },
     "execution_count": 11,
     "metadata": {},
     "output_type": "execute_result"
    }
   ],
   "source": [
    "#checking for missing values \n",
    "df.isnull().sum()"
   ]
  },
  {
   "cell_type": "code",
   "execution_count": 12,
   "id": "de880945",
   "metadata": {},
   "outputs": [],
   "source": [
    "#checking for duplicates \n",
    "df_dups = df[df.duplicated()]"
   ]
  },
  {
   "cell_type": "code",
   "execution_count": 13,
   "id": "269def4d",
   "metadata": {},
   "outputs": [
    {
     "data": {
      "text/html": [
       "<div>\n",
       "<style scoped>\n",
       "    .dataframe tbody tr th:only-of-type {\n",
       "        vertical-align: middle;\n",
       "    }\n",
       "\n",
       "    .dataframe tbody tr th {\n",
       "        vertical-align: top;\n",
       "    }\n",
       "\n",
       "    .dataframe thead th {\n",
       "        text-align: right;\n",
       "    }\n",
       "</style>\n",
       "<table border=\"1\" class=\"dataframe\">\n",
       "  <thead>\n",
       "    <tr style=\"text-align: right;\">\n",
       "      <th></th>\n",
       "      <th>State</th>\n",
       "      <th>State Abbreviation</th>\n",
       "      <th>Year</th>\n",
       "      <th>Gender</th>\n",
       "      <th>Education Level of Mother</th>\n",
       "      <th>Education Level Code</th>\n",
       "      <th>Number of Births</th>\n",
       "      <th>Average Age of Mother (years)</th>\n",
       "      <th>Average Birth Weight (g)</th>\n",
       "    </tr>\n",
       "  </thead>\n",
       "  <tbody>\n",
       "  </tbody>\n",
       "</table>\n",
       "</div>"
      ],
      "text/plain": [
       "Empty DataFrame\n",
       "Columns: [State, State Abbreviation, Year, Gender, Education Level of Mother, Education Level Code, Number of Births, Average Age of Mother (years), Average Birth Weight (g)]\n",
       "Index: []"
      ]
     },
     "execution_count": 13,
     "metadata": {},
     "output_type": "execute_result"
    }
   ],
   "source": [
    "#checking dups \n",
    "df_dups"
   ]
  },
  {
   "cell_type": "code",
   "execution_count": null,
   "id": "007d55c9",
   "metadata": {},
   "outputs": [],
   "source": []
  }
 ],
 "metadata": {
  "kernelspec": {
   "display_name": "Python 3 (ipykernel)",
   "language": "python",
   "name": "python3"
  },
  "language_info": {
   "codemirror_mode": {
    "name": "ipython",
    "version": 3
   },
   "file_extension": ".py",
   "mimetype": "text/x-python",
   "name": "python",
   "nbconvert_exporter": "python",
   "pygments_lexer": "ipython3",
   "version": "3.10.9"
  }
 },
 "nbformat": 4,
 "nbformat_minor": 5
}
